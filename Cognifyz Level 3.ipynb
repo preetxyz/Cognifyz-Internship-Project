{
 "cells": [
  {
   "cell_type": "markdown",
   "id": "396ba371-307d-4365-b7ec-cf584f374724",
   "metadata": {},
   "source": [
    "LEVEL 3"
   ]
  },
  {
   "cell_type": "code",
   "execution_count": 28,
   "id": "2fe96d48-ec82-4dd5-a5cd-16f846156ed7",
   "metadata": {},
   "outputs": [],
   "source": [
    "#import all necessary Libraries \n",
    "import numpy as np\n",
    "import pandas as pd\n",
    "import matplotlib.pyplot as plt\n",
    "import seaborn as sns"
   ]
  },
  {
   "cell_type": "code",
   "execution_count": 29,
   "id": "33f8454a-278d-4b3e-9789-f4857815e6a7",
   "metadata": {},
   "outputs": [
    {
     "data": {
      "text/html": [
       "<div>\n",
       "<style scoped>\n",
       "    .dataframe tbody tr th:only-of-type {\n",
       "        vertical-align: middle;\n",
       "    }\n",
       "\n",
       "    .dataframe tbody tr th {\n",
       "        vertical-align: top;\n",
       "    }\n",
       "\n",
       "    .dataframe thead th {\n",
       "        text-align: right;\n",
       "    }\n",
       "</style>\n",
       "<table border=\"1\" class=\"dataframe\">\n",
       "  <thead>\n",
       "    <tr style=\"text-align: right;\">\n",
       "      <th></th>\n",
       "      <th>Restaurant ID</th>\n",
       "      <th>Restaurant Name</th>\n",
       "      <th>Country Code</th>\n",
       "      <th>City</th>\n",
       "      <th>Address</th>\n",
       "      <th>Locality</th>\n",
       "      <th>Locality Verbose</th>\n",
       "      <th>Longitude</th>\n",
       "      <th>Latitude</th>\n",
       "      <th>Cuisines</th>\n",
       "      <th>...</th>\n",
       "      <th>Currency</th>\n",
       "      <th>Has Table booking</th>\n",
       "      <th>Has Online delivery</th>\n",
       "      <th>Is delivering now</th>\n",
       "      <th>Switch to order menu</th>\n",
       "      <th>Price range</th>\n",
       "      <th>Aggregate rating</th>\n",
       "      <th>Rating color</th>\n",
       "      <th>Rating text</th>\n",
       "      <th>Votes</th>\n",
       "    </tr>\n",
       "  </thead>\n",
       "  <tbody>\n",
       "    <tr>\n",
       "      <th>0</th>\n",
       "      <td>6317637</td>\n",
       "      <td>Le Petit Souffle</td>\n",
       "      <td>162</td>\n",
       "      <td>Makati City</td>\n",
       "      <td>Third Floor, Century City Mall, Kalayaan Avenu...</td>\n",
       "      <td>Century City Mall, Poblacion, Makati City</td>\n",
       "      <td>Century City Mall, Poblacion, Makati City, Mak...</td>\n",
       "      <td>121.027535</td>\n",
       "      <td>14.565443</td>\n",
       "      <td>French, Japanese, Desserts</td>\n",
       "      <td>...</td>\n",
       "      <td>Botswana Pula(P)</td>\n",
       "      <td>Yes</td>\n",
       "      <td>No</td>\n",
       "      <td>No</td>\n",
       "      <td>No</td>\n",
       "      <td>3</td>\n",
       "      <td>4.8</td>\n",
       "      <td>Dark Green</td>\n",
       "      <td>Excellent</td>\n",
       "      <td>314</td>\n",
       "    </tr>\n",
       "    <tr>\n",
       "      <th>1</th>\n",
       "      <td>6304287</td>\n",
       "      <td>Izakaya Kikufuji</td>\n",
       "      <td>162</td>\n",
       "      <td>Makati City</td>\n",
       "      <td>Little Tokyo, 2277 Chino Roces Avenue, Legaspi...</td>\n",
       "      <td>Little Tokyo, Legaspi Village, Makati City</td>\n",
       "      <td>Little Tokyo, Legaspi Village, Makati City, Ma...</td>\n",
       "      <td>121.014101</td>\n",
       "      <td>14.553708</td>\n",
       "      <td>Japanese</td>\n",
       "      <td>...</td>\n",
       "      <td>Botswana Pula(P)</td>\n",
       "      <td>Yes</td>\n",
       "      <td>No</td>\n",
       "      <td>No</td>\n",
       "      <td>No</td>\n",
       "      <td>3</td>\n",
       "      <td>4.5</td>\n",
       "      <td>Dark Green</td>\n",
       "      <td>Excellent</td>\n",
       "      <td>591</td>\n",
       "    </tr>\n",
       "    <tr>\n",
       "      <th>2</th>\n",
       "      <td>6300002</td>\n",
       "      <td>Heat - Edsa Shangri-La</td>\n",
       "      <td>162</td>\n",
       "      <td>Mandaluyong City</td>\n",
       "      <td>Edsa Shangri-La, 1 Garden Way, Ortigas, Mandal...</td>\n",
       "      <td>Edsa Shangri-La, Ortigas, Mandaluyong City</td>\n",
       "      <td>Edsa Shangri-La, Ortigas, Mandaluyong City, Ma...</td>\n",
       "      <td>121.056831</td>\n",
       "      <td>14.581404</td>\n",
       "      <td>Seafood, Asian, Filipino, Indian</td>\n",
       "      <td>...</td>\n",
       "      <td>Botswana Pula(P)</td>\n",
       "      <td>Yes</td>\n",
       "      <td>No</td>\n",
       "      <td>No</td>\n",
       "      <td>No</td>\n",
       "      <td>4</td>\n",
       "      <td>4.4</td>\n",
       "      <td>Green</td>\n",
       "      <td>Very Good</td>\n",
       "      <td>270</td>\n",
       "    </tr>\n",
       "    <tr>\n",
       "      <th>3</th>\n",
       "      <td>6318506</td>\n",
       "      <td>Ooma</td>\n",
       "      <td>162</td>\n",
       "      <td>Mandaluyong City</td>\n",
       "      <td>Third Floor, Mega Fashion Hall, SM Megamall, O...</td>\n",
       "      <td>SM Megamall, Ortigas, Mandaluyong City</td>\n",
       "      <td>SM Megamall, Ortigas, Mandaluyong City, Mandal...</td>\n",
       "      <td>121.056475</td>\n",
       "      <td>14.585318</td>\n",
       "      <td>Japanese, Sushi</td>\n",
       "      <td>...</td>\n",
       "      <td>Botswana Pula(P)</td>\n",
       "      <td>No</td>\n",
       "      <td>No</td>\n",
       "      <td>No</td>\n",
       "      <td>No</td>\n",
       "      <td>4</td>\n",
       "      <td>4.9</td>\n",
       "      <td>Dark Green</td>\n",
       "      <td>Excellent</td>\n",
       "      <td>365</td>\n",
       "    </tr>\n",
       "    <tr>\n",
       "      <th>4</th>\n",
       "      <td>6314302</td>\n",
       "      <td>Sambo Kojin</td>\n",
       "      <td>162</td>\n",
       "      <td>Mandaluyong City</td>\n",
       "      <td>Third Floor, Mega Atrium, SM Megamall, Ortigas...</td>\n",
       "      <td>SM Megamall, Ortigas, Mandaluyong City</td>\n",
       "      <td>SM Megamall, Ortigas, Mandaluyong City, Mandal...</td>\n",
       "      <td>121.057508</td>\n",
       "      <td>14.584450</td>\n",
       "      <td>Japanese, Korean</td>\n",
       "      <td>...</td>\n",
       "      <td>Botswana Pula(P)</td>\n",
       "      <td>Yes</td>\n",
       "      <td>No</td>\n",
       "      <td>No</td>\n",
       "      <td>No</td>\n",
       "      <td>4</td>\n",
       "      <td>4.8</td>\n",
       "      <td>Dark Green</td>\n",
       "      <td>Excellent</td>\n",
       "      <td>229</td>\n",
       "    </tr>\n",
       "  </tbody>\n",
       "</table>\n",
       "<p>5 rows × 21 columns</p>\n",
       "</div>"
      ],
      "text/plain": [
       "   Restaurant ID         Restaurant Name  Country Code              City  \\\n",
       "0        6317637        Le Petit Souffle           162       Makati City   \n",
       "1        6304287        Izakaya Kikufuji           162       Makati City   \n",
       "2        6300002  Heat - Edsa Shangri-La           162  Mandaluyong City   \n",
       "3        6318506                    Ooma           162  Mandaluyong City   \n",
       "4        6314302             Sambo Kojin           162  Mandaluyong City   \n",
       "\n",
       "                                             Address  \\\n",
       "0  Third Floor, Century City Mall, Kalayaan Avenu...   \n",
       "1  Little Tokyo, 2277 Chino Roces Avenue, Legaspi...   \n",
       "2  Edsa Shangri-La, 1 Garden Way, Ortigas, Mandal...   \n",
       "3  Third Floor, Mega Fashion Hall, SM Megamall, O...   \n",
       "4  Third Floor, Mega Atrium, SM Megamall, Ortigas...   \n",
       "\n",
       "                                     Locality  \\\n",
       "0   Century City Mall, Poblacion, Makati City   \n",
       "1  Little Tokyo, Legaspi Village, Makati City   \n",
       "2  Edsa Shangri-La, Ortigas, Mandaluyong City   \n",
       "3      SM Megamall, Ortigas, Mandaluyong City   \n",
       "4      SM Megamall, Ortigas, Mandaluyong City   \n",
       "\n",
       "                                    Locality Verbose   Longitude   Latitude  \\\n",
       "0  Century City Mall, Poblacion, Makati City, Mak...  121.027535  14.565443   \n",
       "1  Little Tokyo, Legaspi Village, Makati City, Ma...  121.014101  14.553708   \n",
       "2  Edsa Shangri-La, Ortigas, Mandaluyong City, Ma...  121.056831  14.581404   \n",
       "3  SM Megamall, Ortigas, Mandaluyong City, Mandal...  121.056475  14.585318   \n",
       "4  SM Megamall, Ortigas, Mandaluyong City, Mandal...  121.057508  14.584450   \n",
       "\n",
       "                           Cuisines  ...          Currency Has Table booking  \\\n",
       "0        French, Japanese, Desserts  ...  Botswana Pula(P)               Yes   \n",
       "1                          Japanese  ...  Botswana Pula(P)               Yes   \n",
       "2  Seafood, Asian, Filipino, Indian  ...  Botswana Pula(P)               Yes   \n",
       "3                   Japanese, Sushi  ...  Botswana Pula(P)                No   \n",
       "4                  Japanese, Korean  ...  Botswana Pula(P)               Yes   \n",
       "\n",
       "  Has Online delivery Is delivering now Switch to order menu Price range  \\\n",
       "0                  No                No                   No           3   \n",
       "1                  No                No                   No           3   \n",
       "2                  No                No                   No           4   \n",
       "3                  No                No                   No           4   \n",
       "4                  No                No                   No           4   \n",
       "\n",
       "   Aggregate rating  Rating color Rating text Votes  \n",
       "0               4.8    Dark Green   Excellent   314  \n",
       "1               4.5    Dark Green   Excellent   591  \n",
       "2               4.4         Green   Very Good   270  \n",
       "3               4.9    Dark Green   Excellent   365  \n",
       "4               4.8    Dark Green   Excellent   229  \n",
       "\n",
       "[5 rows x 21 columns]"
      ]
     },
     "execution_count": 29,
     "metadata": {},
     "output_type": "execute_result"
    }
   ],
   "source": [
    "#load the dataset\n",
    "df = pd.read_csv('Dataset .csv')\n",
    "df.head()"
   ]
  },
  {
   "cell_type": "markdown",
   "id": "60ee42eb-1539-4d2f-9eba-cb22cfcd244a",
   "metadata": {},
   "source": [
    "Task 1: Restaurant Reviews\r\n",
    "\r\n",
    "Analyze the text reviews to identify the mo t\r\n",
    "common positive and negative keyword.\r\n",
    "\r\n",
    "Calculate the average length of review  and\r\n",
    "explore if there is a relationship b tween\r\n",
    "review length and rating."
   ]
  },
  {
   "cell_type": "code",
   "execution_count": 30,
   "id": "9289a14d-2155-43dc-a507-fc2fc6c88dfe",
   "metadata": {},
   "outputs": [
    {
     "name": "stdout",
     "output_type": "stream",
     "text": [
      "The most common positive keyword is 'Very Good'.\n",
      "The most common negative keyword is 'Average'.\n"
     ]
    }
   ],
   "source": [
    "# Count occurrences of each rating text\n",
    "positive_counts = df[df['Rating text'].isin(['Excellent', 'Very Good'])]['Rating text'].value_counts()\n",
    "negative_counts = df[df['Rating text'].isin(['Average', 'Good'])]['Rating text'].value_counts()\n",
    "\n",
    "# Determine the most common positive and negative ratings\n",
    "most_common_positive = positive_counts.idxmax()\n",
    "most_common_negative = negative_counts.idxmax()\n",
    "\n",
    "print(f\"The most common positive keyword is '{most_common_positive}'.\")\n",
    "print(f\"The most common negative keyword is '{most_common_negative}'.\")"
   ]
  },
  {
   "cell_type": "code",
   "execution_count": 32,
   "id": "c109b2b4-04d6-4ed0-92a3-5af5db0baa9d",
   "metadata": {},
   "outputs": [
    {
     "name": "stdout",
     "output_type": "stream",
     "text": [
      "Average Review Length: 7.02 characters\n",
      "Correlation between Review Length and Rating: -0.48\n"
     ]
    }
   ],
   "source": [
    "# Calculate the length of each review\n",
    "df['Review Length'] = df['Rating text'].apply(len)\n",
    "\n",
    "# Calculate the average review length\n",
    "average_review_length = df['Review Length'].mean()\n",
    "\n",
    "print(f\"Average Review Length: {average_review_length:.2f} characters\")\n",
    "\n",
    "# Explore the relationship between review length and rating\n",
    "correlation = df['Review Length'].corr(df['Aggregate rating'])\n",
    "\n",
    "print(f\"Correlation between Review Length and Rating: {correlation:.2f}\")"
   ]
  },
  {
   "cell_type": "markdown",
   "id": "17f1e595-0d9d-4810-9a1a-6e1d4e50dce8",
   "metadata": {},
   "source": [
    "Task 2: Votes Analysis\r\n",
    "\r\n",
    "Identify the restaurants with the highest a d\r\n",
    "lowest number of vote.\r\n",
    "\r\n",
    "Analyze if there is a correlation betwee  the\r\n",
    "number of votes and the ratin  of a\r\n",
    "restaurant."
   ]
  },
  {
   "cell_type": "code",
   "execution_count": 60,
   "id": "a5a8eccb-d617-4421-81bd-92c7faa41351",
   "metadata": {},
   "outputs": [],
   "source": [
    "# Highest votes\n",
    "highest_votes = df.loc[df['Votes'].idxmax(),'Restaurant Name']\n",
    "# Lowest votes\n",
    "lowest_votes = df.loc[df['Votes'].idxmin(),'Restaurant Name']"
   ]
  },
  {
   "cell_type": "code",
   "execution_count": 61,
   "id": "1a157756-ead1-420d-b91e-6f89bb95a073",
   "metadata": {},
   "outputs": [
    {
     "name": "stdout",
     "output_type": "stream",
     "text": [
      "Toit\n"
     ]
    }
   ],
   "source": [
    "print(highest_votes)"
   ]
  },
  {
   "cell_type": "code",
   "execution_count": 62,
   "id": "95397fbc-535b-4911-bb07-31ae2ba4550e",
   "metadata": {},
   "outputs": [
    {
     "name": "stdout",
     "output_type": "stream",
     "text": [
      "Cantinho da Gula\n"
     ]
    }
   ],
   "source": [
    "print(lowest_votes)"
   ]
  },
  {
   "cell_type": "code",
   "execution_count": 63,
   "id": "b680d4ed-307f-41b9-b56f-c9f6c5e4ab05",
   "metadata": {},
   "outputs": [
    {
     "name": "stdout",
     "output_type": "stream",
     "text": [
      "Correlation between Votes and Rating: 0.31\n"
     ]
    }
   ],
   "source": [
    "# Explore the relationship between review length and rating\n",
    "correlation = df['Votes'].corr(df['Aggregate rating'])\n",
    "\n",
    "print(f\"Correlation between Votes and Rating: {correlation:.2f}\")"
   ]
  },
  {
   "cell_type": "markdown",
   "id": "2849a585-6786-4e50-a368-4cce755ebc5c",
   "metadata": {},
   "source": [
    "Task 3: Price Range vs. Online Delivery and\n",
    "Table Booking\n",
    "\n",
    "Analyze if there is a relationship between the price range and the availability of online delivery and table booking.\n",
    "Determine if higher-priced restaurants are more likely to offer these services."
   ]
  },
  {
   "cell_type": "code",
   "execution_count": 86,
   "id": "79df34a0-0197-4439-9ab0-4ee11c889774",
   "metadata": {},
   "outputs": [
    {
     "data": {
      "image/png": "[encoded data removed]",
      "text/plain": [
       "<Figure size 1400x600 with 2 Axes>"
      ]
     },
     "metadata": {},
     "output_type": "display_data"
    }
   ],
   "source": [
    "# Convert 'Online delivery' and 'Table booking' columns to binary values\n",
    "df['Has Online delivery'] = df['Has Online delivery'].apply(lambda x: 1 if x == 'Yes' else 0)\n",
    "df['Has Table booking'] = df['Has Table booking'].apply(lambda x: 1 if x == 'Yes' else 0)\n",
    "\n",
    "# Plot the data\n",
    "fig, axes = plt.subplots(1, 2, figsize=(14, 6))\n",
    "\n",
    "sns.barplot(ax=axes[0], x='Price range', y='Has Online delivery', data=df)\n",
    "axes[0].set_title('Online Delivery by Price Range')\n",
    "axes[0].set_ylabel('Proportion of Online Delivery')\n",
    "\n",
    "sns.barplot(ax=axes[1], x='Price range', y='Has Table booking', data=df)\n",
    "axes[1].set_title('Table Booking by Price Range')\n",
    "axes[1].set_ylabel('Proportion of Table Booking')\n",
    "\n",
    "plt.tight_layout()\n",
    "plt.show()\n",
    "\n"
   ]
  },
  {
   "cell_type": "code",
   "execution_count": 89,
   "id": "6c943a6d-e510-4041-8256-4f0840cdfd45",
   "metadata": {},
   "outputs": [
    {
     "name": "stdout",
     "output_type": "stream",
     "text": [
      "Online Delivery Service Analysis\n",
      "Chi-square Statistic: 0.0\n",
      "P-value: 1.0\n",
      "Degrees of Freedom: 0\n",
      "Expected Frequencies:\n",
      " [[4444.]\n",
      " [3113.]\n",
      " [1408.]\n",
      " [ 586.]]\n",
      "There is no significant association between price range and online delivery service.\n",
      "\n",
      "Table Booking Service Analysis\n",
      "Chi-square Statistic: 0.0\n",
      "P-value: 1.0\n",
      "Degrees of Freedom: 0\n",
      "Expected Frequencies:\n",
      " [[4444.]\n",
      " [3113.]\n",
      " [1408.]\n",
      " [ 586.]]\n",
      "There is no significant association between price range and table booking service.\n"
     ]
    }
   ],
   "source": [
    "# Step 1: Create contingency tables\n",
    "contingency_table_delivery = pd.crosstab(df['Price range'], df['Has Online delivery'])\n",
    "contingency_table_booking = pd.crosstab(df['Price range'], df['Has Table booking'])\n",
    "\n",
    "# Step 2: Perform chi-square tests\n",
    "chi2_delivery, p_delivery, dof_delivery, expected_delivery = stats.chi2_contingency(contingency_table_delivery)\n",
    "chi2_booking, p_booking, dof_booking, expected_booking = stats.chi2_contingency(contingency_table_booking)\n",
    "\n",
    "# Step 3: Interpret the results\n",
    "print(\"Online Delivery Service Analysis\")\n",
    "print(\"Chi-square Statistic:\", chi2_delivery)\n",
    "print(\"P-value:\", p_delivery)\n",
    "print(\"Degrees of Freedom:\", dof_delivery)\n",
    "print(\"Expected Frequencies:\\n\", expected_delivery)\n",
    "if p_delivery < 0.05:\n",
    "    print(\"There is a significant association between price range and online delivery service.\")\n",
    "else:\n",
    "    print(\"There is no significant association between price range and online delivery service.\")\n",
    "\n",
    "print(\"\\nTable Booking Service Analysis\")\n",
    "print(\"Chi-square Statistic:\", chi2_booking)\n",
    "print(\"P-value:\", p_booking)\n",
    "print(\"Degrees of Freedom:\", dof_booking)\n",
    "print(\"Expected Frequencies:\\n\", expected_booking)\n",
    "if p_booking < 0.05:\n",
    "    print(\"There is a significant association between price range and table booking service.\")\n",
    "else:\n",
    "    print(\"There is no significant association between price range and table booking service.\")\n"
   ]
  },
  {
   "cell_type": "code",
   "execution_count": null,
   "id": "89bad056-1cbc-415a-914f-ef83612f8e36",
   "metadata": {},
   "outputs": [],
   "source": [
    "\n"
   ]
  },
  {
   "cell_type": "code",
   "execution_count": null,
   "id": "2553d591-eb51-4b64-9ec8-6c474c934c94",
   "metadata": {},
   "outputs": [],
   "source": []
  }
 ],
 "metadata": {
  "kernelspec": {
   "display_name": "Python 3 (ipykernel)",
   "language": "python",
   "name": "python3"
  },
  "language_info": {
   "codemirror_mode": {
    "name": "ipython",
    "version": 3
   },
   "file_extension": ".py",
   "mimetype": "text/x-python",
   "name": "python",
   "nbconvert_exporter": "python",
   "pygments_lexer": "ipython3",
   "version": "3.12.1"
  }
 },
 "nbformat": 4,
 "nbformat_minor": 5
}
